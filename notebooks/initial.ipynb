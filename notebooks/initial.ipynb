{
 "cells": [
  {
   "cell_type": "markdown",
   "id": "7fb315be-ff1d-490c-992e-89ff10d9e752",
   "metadata": {},
   "source": [
    "https://www.youtube.com/watch?v=_IV1qfSPPwI&t=0s"
   ]
  },
  {
   "cell_type": "markdown",
   "id": "8c413e13-588e-4c4e-b1fc-ebc598ffc453",
   "metadata": {},
   "source": [
    "+ Connect to the Binance account.\n"
   ]
  },
  {
   "cell_type": "code",
   "execution_count": 1,
   "id": "69cf6427-0148-416e-931f-504094e15800",
   "metadata": {},
   "outputs": [],
   "source": [
    "from binance import Client\n",
    "import pandas as pd"
   ]
  },
  {
   "cell_type": "code",
   "execution_count": 2,
   "id": "4f5e8753-3daf-4f2b-aebc-07611995fb22",
   "metadata": {},
   "outputs": [],
   "source": [
    "%run ../data/binance.py"
   ]
  },
  {
   "cell_type": "code",
   "execution_count": 3,
   "id": "5a4a242d-b40d-4f22-886a-b031396392d5",
   "metadata": {},
   "outputs": [],
   "source": [
    "client = Client(api_key, api_secret)\n",
    "# client.get_account()"
   ]
  },
  {
   "cell_type": "code",
   "execution_count": 4,
   "id": "68b84157-3da8-451a-9a1c-54b5e4385e6c",
   "metadata": {},
   "outputs": [],
   "source": [
    "# # Example on how to get data.\n",
    "# pd.DataFrame(client.get_historical_klines('BTCUSDT', '1m', '30m ago UTC'))"
   ]
  },
  {
   "cell_type": "code",
   "execution_count": 5,
   "id": "f170696a-4e89-4e4e-ba4e-5fbf11e22bfa",
   "metadata": {},
   "outputs": [],
   "source": [
    "# Function to get data.\n",
    "def getminutedata(symbol, interval, lookback):\n",
    "    frame = pd.DataFrame(client.get_historical_klines(symbol, interval, f'{lookback} ago UTC'))\n",
    "    frame = frame.iloc[:, :5]\n",
    "    frame.columns = ['Time', 'Open', 'High', 'Low', 'Close', 'Volume']\n",
    "    frame = frame.set_index('Time')\n",
    "    return frame"
   ]
  }
 ],
 "metadata": {
  "kernelspec": {
   "display_name": "venv-00",
   "language": "python",
   "name": "venv-00"
  },
  "language_info": {
   "codemirror_mode": {
    "name": "ipython",
    "version": 3
   },
   "file_extension": ".py",
   "mimetype": "text/x-python",
   "name": "python",
   "nbconvert_exporter": "python",
   "pygments_lexer": "ipython3",
   "version": "3.10.9"
  }
 },
 "nbformat": 4,
 "nbformat_minor": 5
}
