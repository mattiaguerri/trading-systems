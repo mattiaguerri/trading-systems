{
 "cells": [
  {
   "cell_type": "markdown",
   "id": "2a10bfcd-d236-4bbd-bf14-64f870cb9479",
   "metadata": {},
   "source": [
    "Tutorial here:  \n",
    "https://www.youtube.com/watch?v=vyHiWOS8yAc"
   ]
  },
  {
   "cell_type": "code",
   "execution_count": 1,
   "id": "adaf58c5-5db8-4b81-82af-565c4dbe2307",
   "metadata": {},
   "outputs": [],
   "source": [
    "import pandas as pd\n",
    "from pandas.tseries.offsets import MonthEnd\n",
    "from sqlalchemy import create_engine\n",
    "from binance.client import Client\n",
    "from time import sleep"
   ]
  },
  {
   "cell_type": "code",
   "execution_count": 2,
   "id": "41e66a19-65c3-4c55-90ee-c7db2c03d156",
   "metadata": {},
   "outputs": [],
   "source": [
    "client = Client()"
   ]
  },
  {
   "cell_type": "code",
   "execution_count": 3,
   "id": "55469071-728e-49c9-a96c-40177e65cc20",
   "metadata": {},
   "outputs": [],
   "source": [
    "engine = create_engine(\"sqlite:///Cointest.db\")"
   ]
  },
  {
   "cell_type": "code",
   "execution_count": 4,
   "id": "ec7b6f0f-8e41-4511-861f-abfe72e174f9",
   "metadata": {},
   "outputs": [],
   "source": [
    "def getdata(symbol, start):\n",
    "    end = str(pd.to_datetime(start) + MonthEnd(0))\n",
    "    frame = pd.DataFrame(\n",
    "        client.get_historical_klines(\n",
    "            symbol, \"1h\", start, end\n",
    "        )\n",
    "    )\n",
    "    frame = frame.iloc[:, :6]\n",
    "    frame.columns = [\n",
    "        \"Time\", \"Open\", \"High\", \"Low\", \"Close\", \"Volume\"\n",
    "    ]\n",
    "    frame.set_index(\"Time\", inplace=True)\n",
    "    frame.index = pd.to_datetime(frame.index, unit=\"ms\")\n",
    "    frame = frame.astype(float)\n",
    "    return frame"
   ]
  },
  {
   "cell_type": "code",
   "execution_count": 5,
   "id": "bd594d6e-336b-4edf-bc33-1d95c8e673f1",
   "metadata": {},
   "outputs": [],
   "source": [
    "coins = (\"BTCUSDT\", \"ETHUSDT\", \"BNBUSDT\")"
   ]
  },
  {
   "cell_type": "code",
   "execution_count": 6,
   "id": "ebd4f087-3f22-443b-a9d0-837b0b6b6e90",
   "metadata": {},
   "outputs": [],
   "source": [
    "daterange = pd.date_range(\"2022-09-01\", \"2022-10-01\", freq=\"MS\")"
   ]
  },
  {
   "cell_type": "code",
   "execution_count": 7,
   "id": "b0801826-c648-429c-8673-c77ea31e44e3",
   "metadata": {},
   "outputs": [
    {
     "name": "stdout",
     "output_type": "stream",
     "text": [
      "processing September for BTCUSDT...\n",
      "processing October for BTCUSDT...\n",
      "Finished BTCUSDT\n",
      "processing September for ETHUSDT...\n",
      "processing October for ETHUSDT...\n",
      "Finished ETHUSDT\n",
      "processing September for BNBUSDT...\n",
      "processing October for BNBUSDT...\n",
      "Finished BNBUSDT\n"
     ]
    }
   ],
   "source": [
    "for coin in coins:\n",
    "    for date in daterange:\n",
    "        print(f\"processing {date.month_name()} for {coin}...\")\n",
    "        df = getdata(coin, str(date))\n",
    "        df.to_sql(coin, engine, if_exists=\"append\", index=True)\n",
    "    sleep(60)\n",
    "    print(f\"Finished {coin}\")"
   ]
  },
  {
   "cell_type": "code",
   "execution_count": null,
   "id": "5391c343-e3eb-4f2e-8ff5-32a774d97236",
   "metadata": {},
   "outputs": [],
   "source": []
  },
  {
   "cell_type": "code",
   "execution_count": null,
   "id": "2298ec30-51ad-4130-abca-6135421d342b",
   "metadata": {},
   "outputs": [],
   "source": []
  },
  {
   "cell_type": "code",
   "execution_count": null,
   "id": "50c180aa-8938-42ce-b871-f1944cc5079a",
   "metadata": {},
   "outputs": [],
   "source": []
  }
 ],
 "metadata": {
  "kernelspec": {
   "display_name": "venv-00",
   "language": "python",
   "name": "venv-00"
  },
  "language_info": {
   "codemirror_mode": {
    "name": "ipython",
    "version": 3
   },
   "file_extension": ".py",
   "mimetype": "text/x-python",
   "name": "python",
   "nbconvert_exporter": "python",
   "pygments_lexer": "ipython3",
   "version": "3.10.9"
  }
 },
 "nbformat": 4,
 "nbformat_minor": 5
}
