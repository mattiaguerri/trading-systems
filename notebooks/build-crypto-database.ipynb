{
 "cells": [
  {
   "cell_type": "markdown",
   "id": "2a10bfcd-d236-4bbd-bf14-64f870cb9479",
   "metadata": {},
   "source": [
    "Tutorial here:  \n",
    "https://www.youtube.com/watch?v=vyHiWOS8yAc"
   ]
  },
  {
   "cell_type": "code",
   "execution_count": 1,
   "id": "adaf58c5-5db8-4b81-82af-565c4dbe2307",
   "metadata": {},
   "outputs": [],
   "source": [
    "import pandas as pd\n",
    "from pandas.tseries.offsets import MonthEnd\n",
    "from sqlalchemy import create_engine\n",
    "from binance.client import Client\n",
    "from time import sleep"
   ]
  },
  {
   "cell_type": "code",
   "execution_count": 2,
   "id": "41e66a19-65c3-4c55-90ee-c7db2c03d156",
   "metadata": {},
   "outputs": [],
   "source": [
    "# client = Client()"
   ]
  },
  {
   "cell_type": "code",
   "execution_count": 3,
   "id": "55469071-728e-49c9-a96c-40177e65cc20",
   "metadata": {},
   "outputs": [],
   "source": [
    "# engine = create_engine(\"sqlite:///../data/Cointest.db\")"
   ]
  },
  {
   "cell_type": "code",
   "execution_count": 4,
   "id": "ec7b6f0f-8e41-4511-861f-abfe72e174f9",
   "metadata": {},
   "outputs": [],
   "source": [
    "# def getdata(symbol, start):\n",
    "#     end = str(pd.to_datetime(start) + MonthEnd(0))\n",
    "#     frame = pd.DataFrame(\n",
    "#         client.get_historical_klines(\n",
    "#             symbol, \"1h\", start, end\n",
    "#         )\n",
    "#     )\n",
    "#     frame = frame.iloc[:, :6]\n",
    "#     frame.columns = [\n",
    "#         \"Time\", \"Open\", \"High\", \"Low\", \"Close\", \"Volume\"\n",
    "#     ]\n",
    "#     frame.set_index(\"Time\", inplace=True)\n",
    "#     frame.index = pd.to_datetime(frame.index, unit=\"ms\")\n",
    "#     frame = frame.astype(float)\n",
    "#     return frame"
   ]
  },
  {
   "cell_type": "code",
   "execution_count": 5,
   "id": "bd594d6e-336b-4edf-bc33-1d95c8e673f1",
   "metadata": {},
   "outputs": [],
   "source": [
    "# coins = (\"BTCUSDT\", \"ETHUSDT\", \"BNBUSDT\")"
   ]
  },
  {
   "cell_type": "code",
   "execution_count": 6,
   "id": "ebd4f087-3f22-443b-a9d0-837b0b6b6e90",
   "metadata": {},
   "outputs": [],
   "source": [
    "# daterange = pd.date_range(\"2022-09-01\", \"2022-10-01\", freq=\"MS\")"
   ]
  },
  {
   "cell_type": "code",
   "execution_count": 7,
   "id": "b0801826-c648-429c-8673-c77ea31e44e3",
   "metadata": {},
   "outputs": [],
   "source": [
    "# # Download data.\n",
    "# for coin in coins:\n",
    "#     for date in daterange:\n",
    "#         print(f\"processing {date.month_name()} for {coin}...\")\n",
    "#         df = getdata(coin, str(date))\n",
    "#         df.to_sql(coin, engine, if_exists=\"append\", index=True)\n",
    "#     sleep(60)\n",
    "#     print(f\"Finished {coin}\")"
   ]
  },
  {
   "cell_type": "code",
   "execution_count": 8,
   "id": "5391c343-e3eb-4f2e-8ff5-32a774d97236",
   "metadata": {},
   "outputs": [],
   "source": [
    "# # Query the database.\n",
    "# pd.read_sql(\"SELECT * FROM BTCUSDT\", engine)"
   ]
  },
  {
   "cell_type": "markdown",
   "id": "5b9f68a3-35dd-41f5-8825-1ee398c53f4a",
   "metadata": {},
   "source": [
    "## Use MySQL in place of SQLite."
   ]
  },
  {
   "cell_type": "code",
   "execution_count": 9,
   "id": "50c180aa-8938-42ce-b871-f1944cc5079a",
   "metadata": {},
   "outputs": [],
   "source": [
    "import pymysql"
   ]
  },
  {
   "cell_type": "code",
   "execution_count": 10,
   "id": "3cc35197-8f55-4b4c-9dd5-50ed7758ce2b",
   "metadata": {},
   "outputs": [],
   "source": [
    "client = Client()"
   ]
  },
  {
   "cell_type": "code",
   "execution_count": 11,
   "id": "ce87db22-d980-4d55-87ce-580b10361623",
   "metadata": {},
   "outputs": [],
   "source": [
    "engine = create_engine(\"mysql+pymysql://root:@localhost\")"
   ]
  },
  {
   "cell_type": "code",
   "execution_count": 13,
   "id": "5ca71156-85a0-4e12-a1c1-31eb663bfc2d",
   "metadata": {},
   "outputs": [
    {
     "ename": "AttributeError",
     "evalue": "'Engine' object has no attribute 'execute'",
     "output_type": "error",
     "traceback": [
      "\u001b[0;31m---------------------------------------------------------------------------\u001b[0m",
      "\u001b[0;31mAttributeError\u001b[0m                            Traceback (most recent call last)",
      "Cell \u001b[0;32mIn[13], line 1\u001b[0m\n\u001b[0;32m----> 1\u001b[0m \u001b[43mengine\u001b[49m\u001b[38;5;241;43m.\u001b[39;49m\u001b[43mexecute\u001b[49m(\u001b[38;5;124m\"\u001b[39m\u001b[38;5;124mCREATE DATABASE CoinIntra\u001b[39m\u001b[38;5;124m\"\u001b[39m)\n",
      "\u001b[0;31mAttributeError\u001b[0m: 'Engine' object has no attribute 'execute'"
     ]
    }
   ],
   "source": [
    "engine.execute(\"CREATE DATABASE CoinIntra\")"
   ]
  },
  {
   "cell_type": "code",
   "execution_count": null,
   "id": "4a2f8127-6ae2-463f-b688-0dc731032fa4",
   "metadata": {},
   "outputs": [],
   "source": [
    "# Download data.\n",
    "for coin in coins:\n",
    "    for date in daterange:\n",
    "        print(f\"processing {date.month_name()} for {coin}...\")\n",
    "        df = getdata(coin, str(date))\n",
    "        df.to_sql(\n",
    "            coin,\n",
    "            engine,\n",
    "            schema=\"CoinIntra\"\n",
    "            if_exists=\"append\",\n",
    "            index=True\n",
    "        )\n",
    "    sleep(60)\n",
    "    print(f\"Finished {coin}\")"
   ]
  }
 ],
 "metadata": {
  "kernelspec": {
   "display_name": "venv-00",
   "language": "python",
   "name": "venv-00"
  },
  "language_info": {
   "codemirror_mode": {
    "name": "ipython",
    "version": 3
   },
   "file_extension": ".py",
   "mimetype": "text/x-python",
   "name": "python",
   "nbconvert_exporter": "python",
   "pygments_lexer": "ipython3",
   "version": "3.10.9"
  }
 },
 "nbformat": 4,
 "nbformat_minor": 5
}
