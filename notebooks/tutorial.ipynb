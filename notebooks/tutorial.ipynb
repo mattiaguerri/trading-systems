{
 "cells": [
  {
   "cell_type": "markdown",
   "id": "b0d82677-8e21-4a88-9181-d6a5e95893cc",
   "metadata": {},
   "source": [
    "link to the tutorial:  \n",
    "https://raposa.trade/blog/building-a-complete-bot-trading-system-for-beginners-in-python/  \n",
    "https://raposa.trade/blog/a-complete-starter-system-for-new-traders/"
   ]
  },
  {
   "cell_type": "code",
   "execution_count": null,
   "id": "c15e066c-b388-4d0a-96ec-e023bc785a56",
   "metadata": {},
   "outputs": [],
   "source": [
    "import numpy as np\n",
    "import pandas as pd\n",
    "import matplotlib.pyplot as plt\n",
    "import yfinance as yf\n",
    "from datetime import timedelta"
   ]
  },
  {
   "cell_type": "code",
   "execution_count": null,
   "id": "ace6db0d-59f1-4b7f-aaa0-01de15498708",
   "metadata": {},
   "outputs": [],
   "source": [
    "def StarterSystem(data, SMA1=16, SMA2=64, target_risk=0.12, stop_loss_gap=0.5, starting_capital=1000, shorts=True):\n",
    "    data['SMA1'] = data['Close'].rolling(SMA1).mean()\n",
    "    data['SMA2'] = data['Close'].rolling(SMA2).mean()\n",
    "    data['STD'] = data['Close'].pct_change().rolling(252).std() * np.sqrt(252)\n",
    "    \n",
    "    position = np.zeros(data.shape[0])\n",
    "    cash = position.copy()\n",
    "    stops = position.copy()\n",
    "    stops[:] = np.nan\n",
    "    stop_triggered = stops.copy()\n",
    "    exit_on_stop_dir = 0\n",
    "    for i, (ts, row) in enumerate(data.iterrows()):\n",
    "        if any(np.isnan(row[[\"SMA1\", \"SMA2\", \"STD\"]])):\n",
    "            cash[i] += cash[i-1] if i > 0 else starting_capital\n",
    "            continue\n",
    "        \n",
    "        trend_dir = 1 if row[\"SMA1\"] > row[\"SMA2\"] else -1\n",
    "        new_stop = calcStopPrice(row[\"Close\"], row[\"STD\"], stop_loss_gap, trend_dir)\n",
    "        # Propagate values forward.\n",
    "        cash[i] = cash[i-1]\n",
    "        position[i] = position[i-1]\n",
    "        stops[i] = stops[i-1]\n",
    "        \n",
    "        if trend_dir == 1:\n",
    "            if exit_on_stop_dir == -1:\n",
    "                exir_on_stop_dir = 0\n",
    "            if position[i] > 0:\n",
    "                # Update stop.\n",
    "                if new_stop > stops[i-1]:\n",
    "                    stops[i] = new_stop\n",
    "                \n",
    "                # Check if stop was hit.\n",
    "                if row[\"Close\"] < stops[i]:\n",
    "                    cash[i] += position[i] * row[\"Close\"]\n",
    "                    position[i] = 0\n",
    "                    stop_triggered[i] = 1\n",
    "                    exit_on_stop_dir = 1\n",
    "                \n",
    "                else:\n",
    "                    "
   ]
  },
  {
   "cell_type": "code",
   "execution_count": null,
   "id": "4f4208c1-d363-4452-9e5b-338b25f19a4a",
   "metadata": {},
   "outputs": [],
   "source": []
  }
 ],
 "metadata": {
  "kernelspec": {
   "display_name": "venv-00",
   "language": "python",
   "name": "venv-00"
  },
  "language_info": {
   "codemirror_mode": {
    "name": "ipython",
    "version": 3
   },
   "file_extension": ".py",
   "mimetype": "text/x-python",
   "name": "python",
   "nbconvert_exporter": "python",
   "pygments_lexer": "ipython3",
   "version": "3.10.9"
  }
 },
 "nbformat": 4,
 "nbformat_minor": 5
}
